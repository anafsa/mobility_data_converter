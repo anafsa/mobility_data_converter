{
 "cells": [
  {
   "cell_type": "markdown",
   "id": "be15783a-12c9-4c19-abf6-8f098560aecd",
   "metadata": {},
   "source": [
    "# Mobility data converter"
   ]
  },
  {
   "cell_type": "markdown",
   "id": "34bda923-1f5d-4ee1-b28e-3680046b7ebf",
   "metadata": {
    "tags": []
   },
   "source": [
    "## Import modules"
   ]
  },
  {
   "cell_type": "code",
   "execution_count": 1,
   "id": "9d53fd8e-7c88-4cc1-a3d1-db6f44521254",
   "metadata": {
    "tags": []
   },
   "outputs": [],
   "source": [
    "import pandas as pd"
   ]
  },
  {
   "cell_type": "markdown",
   "id": "b0093b01-7c5b-484d-8987-a7faf1b5c95b",
   "metadata": {},
   "source": [
    "## Introduction"
   ]
  },
  {
   "cell_type": "markdown",
   "id": "eb9703d3-3bd8-4450-ad65-ac3a182daaf6",
   "metadata": {},
   "source": [
    "The goal is to convert data into the following format:"
   ]
  },
  {
   "cell_type": "code",
   "execution_count": 2,
   "id": "d5986be9-d912-4b67-bd39-b96fd044e01e",
   "metadata": {},
   "outputs": [
    {
     "data": {
      "text/html": [
       "<div>\n",
       "<style scoped>\n",
       "    .dataframe tbody tr th:only-of-type {\n",
       "        vertical-align: middle;\n",
       "    }\n",
       "\n",
       "    .dataframe tbody tr th {\n",
       "        vertical-align: top;\n",
       "    }\n",
       "\n",
       "    .dataframe thead th {\n",
       "        text-align: right;\n",
       "    }\n",
       "</style>\n",
       "<table border=\"1\" class=\"dataframe\">\n",
       "  <thead>\n",
       "    <tr style=\"text-align: right;\">\n",
       "      <th></th>\n",
       "      <th>timestamp</th>\n",
       "      <th>node_id</th>\n",
       "      <th>latitude</th>\n",
       "      <th>longitude</th>\n",
       "      <th>neighbours</th>\n",
       "      <th>rsu</th>\n",
       "    </tr>\n",
       "  </thead>\n",
       "  <tbody>\n",
       "    <tr>\n",
       "      <th>0</th>\n",
       "      <td>1423807260</td>\n",
       "      <td>101</td>\n",
       "      <td>40.641606</td>\n",
       "      <td>-8.652702</td>\n",
       "      <td>[{'node_id': '102'| 'rssi': '46'| 'rsu': 0}]</td>\n",
       "      <td>1</td>\n",
       "    </tr>\n",
       "    <tr>\n",
       "      <th>1</th>\n",
       "      <td>1423807260</td>\n",
       "      <td>102</td>\n",
       "      <td>40.641211</td>\n",
       "      <td>-8.653796</td>\n",
       "      <td>[{'node_id': '101'| 'rssi': '46'| 'rsu': 1}|{'...</td>\n",
       "      <td>0</td>\n",
       "    </tr>\n",
       "  </tbody>\n",
       "</table>\n",
       "</div>"
      ],
      "text/plain": [
       "    timestamp  node_id   latitude  longitude  \\\n",
       "0  1423807260      101  40.641606  -8.652702   \n",
       "1  1423807260      102  40.641211  -8.653796   \n",
       "\n",
       "                                          neighbours  rsu  \n",
       "0       [{'node_id': '102'| 'rssi': '46'| 'rsu': 0}]    1  \n",
       "1  [{'node_id': '101'| 'rssi': '46'| 'rsu': 1}|{'...    0  "
      ]
     },
     "execution_count": 2,
     "metadata": {},
     "output_type": "execute_result"
    }
   ],
   "source": [
    "df_example = pd.read_csv('../data/processed/example_5nodes.csv')\n",
    "df_example.head(2)"
   ]
  },
  {
   "cell_type": "markdown",
   "id": "aaf8cb4a-fcdc-48db-9b30-66afa63ac15d",
   "metadata": {},
   "source": [
    "## Variables"
   ]
  },
  {
   "cell_type": "code",
   "execution_count": 3,
   "id": "cd2794b2-79e2-4d33-ae46-065127435647",
   "metadata": {},
   "outputs": [],
   "source": [
    "cols = ['time_index', 'entity_id', 'location', 'speed', 'heading', 'altitude', 'rssi', 'obu_id',\n",
    "        'road', 'class', 'test', 'receiverid', 'receivertype', 'stationid', 'stationtype',\n",
    "        'semimajorconf', 'semiminorconf', 'semimajororient', 'altitudeconf', 'headingconf',\n",
    "        'speedconf', 'vehiclerole', 'drivedirection', 'length', 'width', 'acceleration',\n",
    "        'accelerationconf', 'curvature', 'curvatureconf', 'yawrate', 'yawrateconf', 'brakepedal',\n",
    "        'gaspedal', 'emergencybrake', 'collisionwarning', 'accengaged', 'cruisecontrol',\n",
    "        'speedlimiter', 'specialvehicle']\n",
    "\n",
    "features = ['time_index', 'entity_id', 'location', 'rssi', 'stationid']"
   ]
  },
  {
   "cell_type": "code",
   "execution_count": 4,
   "id": "0fdf2faa-8400-419d-836a-1acb3e338411",
   "metadata": {},
   "outputs": [],
   "source": [
    "rsu_ids = ['p3', 'p5', 'p6', 'p26', 'p19']\n",
    "obu_ids = [50, 51, 52, 60, 86, 87, 89, 90, 97, 99]"
   ]
  },
  {
   "cell_type": "code",
   "execution_count": 5,
   "id": "051957ef-f563-4c85-afdf-c989493ba817",
   "metadata": {},
   "outputs": [],
   "source": [
    "filename = '../data/raw/cams.part.01.csv'"
   ]
  },
  {
   "cell_type": "markdown",
   "id": "b850da1d-7021-44f8-9ecf-b41929cf6115",
   "metadata": {},
   "source": [
    "## Loading data"
   ]
  },
  {
   "cell_type": "code",
   "execution_count": 6,
   "id": "db670de6-3f4f-4585-b87e-b3bd00e1fd4e",
   "metadata": {},
   "outputs": [],
   "source": [
    "df = pd.read_csv(filename, names=cols) # read file"
   ]
  },
  {
   "cell_type": "markdown",
   "id": "7b2153cb-015e-4452-a420-a778268de029",
   "metadata": {},
   "source": [
    "## Converting data"
   ]
  },
  {
   "cell_type": "code",
   "execution_count": 7,
   "id": "3bd76bc5-75e9-496b-bd27-c6bb35309882",
   "metadata": {},
   "outputs": [
    {
     "data": {
      "text/plain": [
       "['urn:ngsi-ld:Values:aveiro_cam:p3',\n",
       " 'urn:ngsi-ld:Values:aveiro_cam:p5',\n",
       " 'urn:ngsi-ld:Values:aveiro_cam:p6',\n",
       " 'urn:ngsi-ld:Values:aveiro_cam:p26',\n",
       " 'urn:ngsi-ld:Values:aveiro_cam:p19']"
      ]
     },
     "execution_count": 7,
     "metadata": {},
     "output_type": "execute_result"
    }
   ],
   "source": [
    "def build_posts_ids(ids):\n",
    "    '''\n",
    "    Convert list of short ids to list of long ids.\n",
    "    '''\n",
    "    return ['urn:ngsi-ld:Values:aveiro_cam:' + pid for pid in ids]\n",
    "\n",
    "rsu_ids = build_posts_ids(rsu_ids)\n",
    "rsu_ids"
   ]
  },
  {
   "cell_type": "code",
   "execution_count": 8,
   "id": "c8600fc4-04ec-4306-ac69-7b34e909c567",
   "metadata": {},
   "outputs": [
    {
     "data": {
      "text/html": [
       "<div>\n",
       "<style scoped>\n",
       "    .dataframe tbody tr th:only-of-type {\n",
       "        vertical-align: middle;\n",
       "    }\n",
       "\n",
       "    .dataframe tbody tr th {\n",
       "        vertical-align: top;\n",
       "    }\n",
       "\n",
       "    .dataframe thead th {\n",
       "        text-align: right;\n",
       "    }\n",
       "</style>\n",
       "<table border=\"1\" class=\"dataframe\">\n",
       "  <thead>\n",
       "    <tr style=\"text-align: right;\">\n",
       "      <th></th>\n",
       "      <th>time_index</th>\n",
       "      <th>entity_id</th>\n",
       "      <th>location</th>\n",
       "      <th>rssi</th>\n",
       "      <th>stationid</th>\n",
       "    </tr>\n",
       "  </thead>\n",
       "  <tbody>\n",
       "    <tr>\n",
       "      <th>0</th>\n",
       "      <td>2022-03-08 06:59:12.95+00</td>\n",
       "      <td>urn:ngsi-ld:Values:aveiro_cam:p5</td>\n",
       "      <td>01010000009BBBA7BC674E21C0139447DC08524440</td>\n",
       "      <td>-86</td>\n",
       "      <td>97</td>\n",
       "    </tr>\n",
       "    <tr>\n",
       "      <th>1</th>\n",
       "      <td>2022-03-08 06:59:12.156+00</td>\n",
       "      <td>urn:ngsi-ld:Values:aveiro_cam:p6</td>\n",
       "      <td>01010000009BBBA7BC674E21C0139447DC08524440</td>\n",
       "      <td>-81</td>\n",
       "      <td>97</td>\n",
       "    </tr>\n",
       "  </tbody>\n",
       "</table>\n",
       "</div>"
      ],
      "text/plain": [
       "                   time_index                         entity_id  \\\n",
       "0   2022-03-08 06:59:12.95+00  urn:ngsi-ld:Values:aveiro_cam:p5   \n",
       "1  2022-03-08 06:59:12.156+00  urn:ngsi-ld:Values:aveiro_cam:p6   \n",
       "\n",
       "                                     location  rssi  stationid  \n",
       "0  01010000009BBBA7BC674E21C0139447DC08524440   -86         97  \n",
       "1  01010000009BBBA7BC674E21C0139447DC08524440   -81         97  "
      ]
     },
     "execution_count": 8,
     "metadata": {},
     "output_type": "execute_result"
    }
   ],
   "source": [
    "df = df[features] # select columns\n",
    "df = df.loc[df['entity_id'].isin(rsu_ids)] # select only relevant rsu's\n",
    "df = df.loc[df['stationid'].isin(obu_ids)] # select only relevant obu's\n",
    "df = df.reset_index(drop=True) # reset index\n",
    "\n",
    "df.head(2)"
   ]
  },
  {
   "cell_type": "code",
   "execution_count": null,
   "id": "448402e9-77b9-4e0f-9a2a-b4eabaa47bb8",
   "metadata": {},
   "outputs": [],
   "source": []
  },
  {
   "cell_type": "code",
   "execution_count": null,
   "id": "bbeccd47-203f-4432-a6dc-9452a46d65ad",
   "metadata": {},
   "outputs": [],
   "source": []
  },
  {
   "cell_type": "code",
   "execution_count": null,
   "id": "30f31381-8ab0-47ab-b0cd-1e98152d0d3d",
   "metadata": {},
   "outputs": [],
   "source": []
  },
  {
   "cell_type": "markdown",
   "id": "e327640b-8aab-487a-8b30-b663ade0684a",
   "metadata": {},
   "source": [
    "## Saving data"
   ]
  },
  {
   "cell_type": "code",
   "execution_count": null,
   "id": "3478dec3-4b49-4c70-8afc-8d238896d2df",
   "metadata": {},
   "outputs": [],
   "source": []
  },
  {
   "cell_type": "code",
   "execution_count": null,
   "id": "459b99be-0506-4c0e-bee6-c4cec8f11c83",
   "metadata": {},
   "outputs": [],
   "source": []
  }
 ],
 "metadata": {
  "kernelspec": {
   "display_name": "Python 3 (ipykernel)",
   "language": "python",
   "name": "python3"
  },
  "language_info": {
   "codemirror_mode": {
    "name": "ipython",
    "version": 3
   },
   "file_extension": ".py",
   "mimetype": "text/x-python",
   "name": "python",
   "nbconvert_exporter": "python",
   "pygments_lexer": "ipython3",
   "version": "3.10.2"
  }
 },
 "nbformat": 4,
 "nbformat_minor": 5
}
