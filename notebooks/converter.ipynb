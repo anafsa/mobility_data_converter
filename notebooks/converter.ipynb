{
 "cells": [
  {
   "cell_type": "markdown",
   "id": "be15783a-12c9-4c19-abf6-8f098560aecd",
   "metadata": {},
   "source": [
    "# Mobility data converter"
   ]
  },
  {
   "cell_type": "markdown",
   "id": "34bda923-1f5d-4ee1-b28e-3680046b7ebf",
   "metadata": {
    "tags": []
   },
   "source": [
    "## Import modules"
   ]
  },
  {
   "cell_type": "code",
   "execution_count": 1,
   "id": "9d53fd8e-7c88-4cc1-a3d1-db6f44521254",
   "metadata": {
    "tags": []
   },
   "outputs": [],
   "source": [
    "import sys\n",
    "sys.path.insert(1, '../src/utils/')\n",
    "from my_utils import *\n",
    "\n",
    "import pandas as pd\n",
    "import numpy as np"
   ]
  },
  {
   "cell_type": "markdown",
   "id": "b0093b01-7c5b-484d-8987-a7faf1b5c95b",
   "metadata": {},
   "source": [
    "## Introduction"
   ]
  },
  {
   "cell_type": "markdown",
   "id": "eb9703d3-3bd8-4450-ad65-ac3a182daaf6",
   "metadata": {},
   "source": [
    "The goal is to convert data into the following format:"
   ]
  },
  {
   "cell_type": "code",
   "execution_count": 2,
   "id": "d5986be9-d912-4b67-bd39-b96fd044e01e",
   "metadata": {},
   "outputs": [
    {
     "data": {
      "text/html": [
       "<div>\n",
       "<style scoped>\n",
       "    .dataframe tbody tr th:only-of-type {\n",
       "        vertical-align: middle;\n",
       "    }\n",
       "\n",
       "    .dataframe tbody tr th {\n",
       "        vertical-align: top;\n",
       "    }\n",
       "\n",
       "    .dataframe thead th {\n",
       "        text-align: right;\n",
       "    }\n",
       "</style>\n",
       "<table border=\"1\" class=\"dataframe\">\n",
       "  <thead>\n",
       "    <tr style=\"text-align: right;\">\n",
       "      <th></th>\n",
       "      <th>timestamp</th>\n",
       "      <th>node_id</th>\n",
       "      <th>latitude</th>\n",
       "      <th>longitude</th>\n",
       "      <th>neighbours</th>\n",
       "      <th>rsu</th>\n",
       "    </tr>\n",
       "  </thead>\n",
       "  <tbody>\n",
       "    <tr>\n",
       "      <th>0</th>\n",
       "      <td>1423807260</td>\n",
       "      <td>101</td>\n",
       "      <td>40.641606</td>\n",
       "      <td>-8.652702</td>\n",
       "      <td>[{'node_id': '102'| 'rssi': '46'| 'rsu': 0}]</td>\n",
       "      <td>1</td>\n",
       "    </tr>\n",
       "    <tr>\n",
       "      <th>1</th>\n",
       "      <td>1423807260</td>\n",
       "      <td>102</td>\n",
       "      <td>40.641211</td>\n",
       "      <td>-8.653796</td>\n",
       "      <td>[{'node_id': '101'| 'rssi': '46'| 'rsu': 1}|{'...</td>\n",
       "      <td>0</td>\n",
       "    </tr>\n",
       "  </tbody>\n",
       "</table>\n",
       "</div>"
      ],
      "text/plain": [
       "    timestamp  node_id   latitude  longitude  \\\n",
       "0  1423807260      101  40.641606  -8.652702   \n",
       "1  1423807260      102  40.641211  -8.653796   \n",
       "\n",
       "                                          neighbours  rsu  \n",
       "0       [{'node_id': '102'| 'rssi': '46'| 'rsu': 0}]    1  \n",
       "1  [{'node_id': '101'| 'rssi': '46'| 'rsu': 1}|{'...    0  "
      ]
     },
     "execution_count": 2,
     "metadata": {},
     "output_type": "execute_result"
    }
   ],
   "source": [
    "df_example = pd.read_csv('../data/processed/example_5nodes.csv')\n",
    "df_example.head(2)"
   ]
  },
  {
   "cell_type": "markdown",
   "id": "aaf8cb4a-fcdc-48db-9b30-66afa63ac15d",
   "metadata": {},
   "source": [
    "## Variables"
   ]
  },
  {
   "cell_type": "code",
   "execution_count": 3,
   "id": "cd2794b2-79e2-4d33-ae46-065127435647",
   "metadata": {},
   "outputs": [],
   "source": [
    "# columns from the original dataframe\n",
    "cols = ['time_index', 'entity_id', 'location', 'speed', 'heading', 'altitude', 'rssi', 'obu_id',\n",
    "        'road', 'class', 'test', 'receiverid', 'receivertype', 'stationid', 'stationtype',\n",
    "        'semimajorconf', 'semiminorconf', 'semimajororient', 'altitudeconf', 'headingconf',\n",
    "        'speedconf', 'vehiclerole', 'drivedirection', 'length', 'width', 'acceleration',\n",
    "        'accelerationconf', 'curvature', 'curvatureconf', 'yawrate', 'yawrateconf', 'brakepedal',\n",
    "        'gaspedal', 'emergencybrake', 'collisionwarning', 'accengaged', 'cruisecontrol',\n",
    "        'speedlimiter', 'specialvehicle']\n",
    "\n",
    "# selected features\n",
    "features = ['time_index', 'entity_id', 'location', 'rssi', 'stationid']"
   ]
  },
  {
   "cell_type": "code",
   "execution_count": 4,
   "id": "0fdf2faa-8400-419d-836a-1acb3e338411",
   "metadata": {},
   "outputs": [],
   "source": [
    "# selected id's\n",
    "rsu_ids = ['p3', 'p5', 'p6', 'p26', 'p19']\n",
    "obu_ids = [50, 51, 52, 60, 86, 87, 89, 90, 97, 99]"
   ]
  },
  {
   "cell_type": "code",
   "execution_count": 5,
   "id": "e185da6f-49ab-4314-8295-9da3a9ef83e7",
   "metadata": {},
   "outputs": [
    {
     "data": {
      "text/plain": [
       "{'p3': (40.64074, -8.65705),\n",
       " 'p5': (40.64088, -8.65397),\n",
       " 'p6': (40.64161, -8.652827),\n",
       " 'p26': (40.63848, -8.65147),\n",
       " 'p19': (40.64339, -8.65847)}"
      ]
     },
     "execution_count": 5,
     "metadata": {},
     "output_type": "execute_result"
    }
   ],
   "source": [
    "rsu_locations = {'p3':(40.64074, -8.65705), 'p5':(40.64088, -8.65397), 'p6':(40.64161, -8.652827), 'p26':(40.63848, -8.65147), 'p19':(40.64339, -8.65847)}\n",
    "rsu_locations"
   ]
  },
  {
   "cell_type": "code",
   "execution_count": 6,
   "id": "3bd76bc5-75e9-496b-bd27-c6bb35309882",
   "metadata": {},
   "outputs": [
    {
     "data": {
      "text/plain": [
       "['urn:ngsi-ld:Values:aveiro_cam:p3',\n",
       " 'urn:ngsi-ld:Values:aveiro_cam:p5',\n",
       " 'urn:ngsi-ld:Values:aveiro_cam:p6',\n",
       " 'urn:ngsi-ld:Values:aveiro_cam:p26',\n",
       " 'urn:ngsi-ld:Values:aveiro_cam:p19']"
      ]
     },
     "execution_count": 6,
     "metadata": {},
     "output_type": "execute_result"
    }
   ],
   "source": [
    "# converts short id's to long id's\n",
    "rsu_ids = build_posts_ids(rsu_ids)\n",
    "rsu_ids"
   ]
  },
  {
   "cell_type": "code",
   "execution_count": 7,
   "id": "f6aab63b-9a5a-4ef9-af8f-fbb67463eb80",
   "metadata": {},
   "outputs": [],
   "source": [
    "# selected time period\n",
    "data_init = '2022-03-07 09:25:00.00+00'\n",
    "data_end = '2022-03-07 09:30:00.00+00'\n",
    "\n",
    "# 9:25 - 9h30\n",
    "# 8:35 - 8h40"
   ]
  },
  {
   "cell_type": "code",
   "execution_count": 8,
   "id": "051957ef-f563-4c85-afdf-c989493ba817",
   "metadata": {},
   "outputs": [],
   "source": [
    "# file containing the raw data\n",
    "filename = '../data/raw/cams.part.01.csv'\n",
    "# file for the processed data\n",
    "filename_processed = '../data/processed/data_9:25_9:30.csv'"
   ]
  },
  {
   "cell_type": "code",
   "execution_count": 9,
   "id": "d3db7d62-a499-4621-8cd3-4bcd1d88d71e",
   "metadata": {},
   "outputs": [],
   "source": [
    "# radius (meters) for two entities being considered neighbours\n",
    "radius = 50\n",
    "# time for resample\n",
    "time = '5s'"
   ]
  },
  {
   "cell_type": "markdown",
   "id": "b850da1d-7021-44f8-9ecf-b41929cf6115",
   "metadata": {},
   "source": [
    "## Loading data"
   ]
  },
  {
   "cell_type": "code",
   "execution_count": 10,
   "id": "db670de6-3f4f-4585-b87e-b3bd00e1fd4e",
   "metadata": {},
   "outputs": [],
   "source": [
    "df = pd.read_csv(filename, names=cols) # read file"
   ]
  },
  {
   "cell_type": "code",
   "execution_count": 11,
   "id": "5fa4eb2b-0766-47ce-9d2a-8b9af7ab195a",
   "metadata": {},
   "outputs": [
    {
     "data": {
      "text/plain": [
       "count    1000000.000000\n",
       "mean      -17322.096087\n",
       "std        28832.587239\n",
       "min       -65535.000000\n",
       "10%       -65535.000000\n",
       "20%       -65535.000000\n",
       "30%          -88.000000\n",
       "40%          -86.000000\n",
       "50%          -84.000000\n",
       "60%          -82.000000\n",
       "70%          -79.000000\n",
       "80%          -74.000000\n",
       "90%          -67.000000\n",
       "98%          -63.000000\n",
       "max            0.000000\n",
       "Name: rssi, dtype: float64"
      ]
     },
     "execution_count": 11,
     "metadata": {},
     "output_type": "execute_result"
    }
   ],
   "source": [
    "df['rssi'].describe([0.1, 0.2, 0.3, 0.4, 0.5, 0.6, 0.7, 0.8, 0.9, 0.98])"
   ]
  },
  {
   "cell_type": "markdown",
   "id": "7b2153cb-015e-4452-a420-a778268de029",
   "metadata": {},
   "source": [
    "## Converting data"
   ]
  },
  {
   "cell_type": "code",
   "execution_count": 12,
   "id": "c8600fc4-04ec-4306-ac69-7b34e909c567",
   "metadata": {},
   "outputs": [
    {
     "data": {
      "text/html": [
       "<div>\n",
       "<style scoped>\n",
       "    .dataframe tbody tr th:only-of-type {\n",
       "        vertical-align: middle;\n",
       "    }\n",
       "\n",
       "    .dataframe tbody tr th {\n",
       "        vertical-align: top;\n",
       "    }\n",
       "\n",
       "    .dataframe thead th {\n",
       "        text-align: right;\n",
       "    }\n",
       "</style>\n",
       "<table border=\"1\" class=\"dataframe\">\n",
       "  <thead>\n",
       "    <tr style=\"text-align: right;\">\n",
       "      <th></th>\n",
       "      <th>time_index</th>\n",
       "      <th>entity_id</th>\n",
       "      <th>location</th>\n",
       "      <th>rssi</th>\n",
       "      <th>stationid</th>\n",
       "    </tr>\n",
       "  </thead>\n",
       "  <tbody>\n",
       "    <tr>\n",
       "      <th>0</th>\n",
       "      <td>2022-03-07 09:25:00+00:00</td>\n",
       "      <td>urn:ngsi-ld:Values:aveiro_cam:p6</td>\n",
       "      <td>0101000000E1BB28D5994E21C0EB234B4112524440</td>\n",
       "      <td>-81</td>\n",
       "      <td>60</td>\n",
       "    </tr>\n",
       "    <tr>\n",
       "      <th>1</th>\n",
       "      <td>2022-03-07 09:25:00+00:00</td>\n",
       "      <td>urn:ngsi-ld:Values:aveiro_cam:p5</td>\n",
       "      <td>0101000000E1BB28D5994E21C0EB234B4112524440</td>\n",
       "      <td>-82</td>\n",
       "      <td>60</td>\n",
       "    </tr>\n",
       "  </tbody>\n",
       "</table>\n",
       "</div>"
      ],
      "text/plain": [
       "                 time_index                         entity_id  \\\n",
       "0 2022-03-07 09:25:00+00:00  urn:ngsi-ld:Values:aveiro_cam:p6   \n",
       "1 2022-03-07 09:25:00+00:00  urn:ngsi-ld:Values:aveiro_cam:p5   \n",
       "\n",
       "                                     location  rssi  stationid  \n",
       "0  0101000000E1BB28D5994E21C0EB234B4112524440   -81         60  \n",
       "1  0101000000E1BB28D5994E21C0EB234B4112524440   -82         60  "
      ]
     },
     "execution_count": 12,
     "metadata": {},
     "output_type": "execute_result"
    }
   ],
   "source": [
    "df = df[features] # select columns\n",
    "df = df.loc[df['entity_id'].isin(rsu_ids)] # select only relevant rsu's\n",
    "df = df.loc[df['stationid'].isin(obu_ids)] # select only relevant obu's\n",
    "df = df.loc[(df['time_index']>=data_init) & (df['time_index']<data_end)] # include data_init and exclude data_end\n",
    "df = df.loc[(df['rssi']!=0)] # filter by rssi values\n",
    "df = df.sort_values(by='time_index')\n",
    "df['time_index'] = pd.to_datetime(df['time_index'])\n",
    "df[\"time_index\"] = df[\"time_index\"].dt.round(time) # round time_index columns\n",
    "df = df.reset_index(drop=True) # reset index\n",
    "\n",
    "df.head(2)"
   ]
  },
  {
   "cell_type": "code",
   "execution_count": 13,
   "id": "577b6a19-9840-41d3-b20d-07fea031e159",
   "metadata": {},
   "outputs": [
    {
     "data": {
      "text/html": [
       "<div>\n",
       "<style scoped>\n",
       "    .dataframe tbody tr th:only-of-type {\n",
       "        vertical-align: middle;\n",
       "    }\n",
       "\n",
       "    .dataframe tbody tr th {\n",
       "        vertical-align: top;\n",
       "    }\n",
       "\n",
       "    .dataframe thead th {\n",
       "        text-align: right;\n",
       "    }\n",
       "</style>\n",
       "<table border=\"1\" class=\"dataframe\">\n",
       "  <thead>\n",
       "    <tr style=\"text-align: right;\">\n",
       "      <th></th>\n",
       "      <th>time_index</th>\n",
       "      <th>entity_id</th>\n",
       "      <th>stationid</th>\n",
       "      <th>location</th>\n",
       "      <th>rssi</th>\n",
       "    </tr>\n",
       "  </thead>\n",
       "  <tbody>\n",
       "    <tr>\n",
       "      <th>0</th>\n",
       "      <td>2022-03-07 09:25:00+00:00</td>\n",
       "      <td>urn:ngsi-ld:Values:aveiro_cam:p5</td>\n",
       "      <td>60</td>\n",
       "      <td>0101000000E1BB28D5994E21C0EB234B4112524440</td>\n",
       "      <td>-82.666667</td>\n",
       "    </tr>\n",
       "    <tr>\n",
       "      <th>1</th>\n",
       "      <td>2022-03-07 09:25:00+00:00</td>\n",
       "      <td>urn:ngsi-ld:Values:aveiro_cam:p6</td>\n",
       "      <td>60</td>\n",
       "      <td>0101000000E1BB28D5994E21C0EB234B4112524440</td>\n",
       "      <td>-80.333333</td>\n",
       "    </tr>\n",
       "  </tbody>\n",
       "</table>\n",
       "</div>"
      ],
      "text/plain": [
       "                 time_index                         entity_id  stationid  \\\n",
       "0 2022-03-07 09:25:00+00:00  urn:ngsi-ld:Values:aveiro_cam:p5         60   \n",
       "1 2022-03-07 09:25:00+00:00  urn:ngsi-ld:Values:aveiro_cam:p6         60   \n",
       "\n",
       "                                     location       rssi  \n",
       "0  0101000000E1BB28D5994E21C0EB234B4112524440 -82.666667  \n",
       "1  0101000000E1BB28D5994E21C0EB234B4112524440 -80.333333  "
      ]
     },
     "execution_count": 13,
     "metadata": {},
     "output_type": "execute_result"
    }
   ],
   "source": [
    "df = df.groupby(['time_index', 'entity_id', 'stationid'], as_index=False).agg({'location':'first', 'rssi':'mean'})\n",
    "df.head(2)"
   ]
  },
  {
   "cell_type": "code",
   "execution_count": 14,
   "id": "d4586cd2-eb5f-49cb-968e-39f2bcdde205",
   "metadata": {},
   "outputs": [
    {
     "data": {
      "text/html": [
       "<div>\n",
       "<style scoped>\n",
       "    .dataframe tbody tr th:only-of-type {\n",
       "        vertical-align: middle;\n",
       "    }\n",
       "\n",
       "    .dataframe tbody tr th {\n",
       "        vertical-align: top;\n",
       "    }\n",
       "\n",
       "    .dataframe thead th {\n",
       "        text-align: right;\n",
       "    }\n",
       "</style>\n",
       "<table border=\"1\" class=\"dataframe\">\n",
       "  <thead>\n",
       "    <tr style=\"text-align: right;\">\n",
       "      <th></th>\n",
       "      <th>time_index</th>\n",
       "      <th>entity_id</th>\n",
       "      <th>stationid</th>\n",
       "      <th>location</th>\n",
       "      <th>rssi</th>\n",
       "      <th>gps</th>\n",
       "      <th>latitude</th>\n",
       "      <th>longitude</th>\n",
       "    </tr>\n",
       "  </thead>\n",
       "  <tbody>\n",
       "    <tr>\n",
       "      <th>0</th>\n",
       "      <td>2022-03-07 09:25:00+00:00</td>\n",
       "      <td>urn:ngsi-ld:Values:aveiro_cam:p5</td>\n",
       "      <td>60</td>\n",
       "      <td>0101000000E1BB28D5994E21C0EB234B4112524440</td>\n",
       "      <td>-82.666667</td>\n",
       "      <td>(40.6411821, -8.6535174)</td>\n",
       "      <td>40.641182</td>\n",
       "      <td>-8.653517</td>\n",
       "    </tr>\n",
       "    <tr>\n",
       "      <th>1</th>\n",
       "      <td>2022-03-07 09:25:00+00:00</td>\n",
       "      <td>urn:ngsi-ld:Values:aveiro_cam:p6</td>\n",
       "      <td>60</td>\n",
       "      <td>0101000000E1BB28D5994E21C0EB234B4112524440</td>\n",
       "      <td>-80.333333</td>\n",
       "      <td>(40.6411821, -8.6535174)</td>\n",
       "      <td>40.641182</td>\n",
       "      <td>-8.653517</td>\n",
       "    </tr>\n",
       "  </tbody>\n",
       "</table>\n",
       "</div>"
      ],
      "text/plain": [
       "                 time_index                         entity_id  stationid  \\\n",
       "0 2022-03-07 09:25:00+00:00  urn:ngsi-ld:Values:aveiro_cam:p5         60   \n",
       "1 2022-03-07 09:25:00+00:00  urn:ngsi-ld:Values:aveiro_cam:p6         60   \n",
       "\n",
       "                                     location       rssi  \\\n",
       "0  0101000000E1BB28D5994E21C0EB234B4112524440 -82.666667   \n",
       "1  0101000000E1BB28D5994E21C0EB234B4112524440 -80.333333   \n",
       "\n",
       "                        gps   latitude  longitude  \n",
       "0  (40.6411821, -8.6535174)  40.641182  -8.653517  \n",
       "1  (40.6411821, -8.6535174)  40.641182  -8.653517  "
      ]
     },
     "execution_count": 14,
     "metadata": {},
     "output_type": "execute_result"
    }
   ],
   "source": [
    "df['gps'] = df['location'].map(convert_wkb_to_lat_lon) # convert location to gps\n",
    "for n, col in enumerate(['latitude', 'longitude']): # extract lat, lon from gps\n",
    "    df[col] = df['gps'].apply(lambda location: location[n])\n",
    "df.head(2)"
   ]
  },
  {
   "cell_type": "code",
   "execution_count": 15,
   "id": "111538e5-62ab-487e-ab0e-62400d284427",
   "metadata": {},
   "outputs": [
    {
     "data": {
      "text/html": [
       "<div>\n",
       "<style scoped>\n",
       "    .dataframe tbody tr th:only-of-type {\n",
       "        vertical-align: middle;\n",
       "    }\n",
       "\n",
       "    .dataframe tbody tr th {\n",
       "        vertical-align: top;\n",
       "    }\n",
       "\n",
       "    .dataframe thead th {\n",
       "        text-align: right;\n",
       "    }\n",
       "</style>\n",
       "<table border=\"1\" class=\"dataframe\">\n",
       "  <thead>\n",
       "    <tr style=\"text-align: right;\">\n",
       "      <th></th>\n",
       "      <th>time_index</th>\n",
       "      <th>entity_id</th>\n",
       "      <th>stationid</th>\n",
       "      <th>rssi</th>\n",
       "      <th>gps</th>\n",
       "      <th>latitude</th>\n",
       "      <th>longitude</th>\n",
       "    </tr>\n",
       "  </thead>\n",
       "  <tbody>\n",
       "    <tr>\n",
       "      <th>0</th>\n",
       "      <td>2022-03-07 09:25:00+00:00</td>\n",
       "      <td>urn:ngsi-ld:Values:aveiro_cam:p5</td>\n",
       "      <td>60</td>\n",
       "      <td>-82.666667</td>\n",
       "      <td>(40.6411821, -8.6535174)</td>\n",
       "      <td>40.641182</td>\n",
       "      <td>-8.653517</td>\n",
       "    </tr>\n",
       "    <tr>\n",
       "      <th>1</th>\n",
       "      <td>2022-03-07 09:25:00+00:00</td>\n",
       "      <td>urn:ngsi-ld:Values:aveiro_cam:p6</td>\n",
       "      <td>60</td>\n",
       "      <td>-80.333333</td>\n",
       "      <td>(40.6411821, -8.6535174)</td>\n",
       "      <td>40.641182</td>\n",
       "      <td>-8.653517</td>\n",
       "    </tr>\n",
       "  </tbody>\n",
       "</table>\n",
       "</div>"
      ],
      "text/plain": [
       "                 time_index                         entity_id  stationid  \\\n",
       "0 2022-03-07 09:25:00+00:00  urn:ngsi-ld:Values:aveiro_cam:p5         60   \n",
       "1 2022-03-07 09:25:00+00:00  urn:ngsi-ld:Values:aveiro_cam:p6         60   \n",
       "\n",
       "        rssi                       gps   latitude  longitude  \n",
       "0 -82.666667  (40.6411821, -8.6535174)  40.641182  -8.653517  \n",
       "1 -80.333333  (40.6411821, -8.6535174)  40.641182  -8.653517  "
      ]
     },
     "execution_count": 15,
     "metadata": {},
     "output_type": "execute_result"
    }
   ],
   "source": [
    "df = df.drop(columns=['location'])\n",
    "df.head(2)"
   ]
  },
  {
   "cell_type": "code",
   "execution_count": 16,
   "id": "53d9a934-d346-48c7-a7db-929f0fc46f7f",
   "metadata": {
    "tags": []
   },
   "outputs": [
    {
     "data": {
      "text/html": [
       "<div>\n",
       "<style scoped>\n",
       "    .dataframe tbody tr th:only-of-type {\n",
       "        vertical-align: middle;\n",
       "    }\n",
       "\n",
       "    .dataframe tbody tr th {\n",
       "        vertical-align: top;\n",
       "    }\n",
       "\n",
       "    .dataframe thead th {\n",
       "        text-align: right;\n",
       "    }\n",
       "</style>\n",
       "<table border=\"1\" class=\"dataframe\">\n",
       "  <thead>\n",
       "    <tr style=\"text-align: right;\">\n",
       "      <th></th>\n",
       "      <th>time_index</th>\n",
       "      <th>entity_id</th>\n",
       "      <th>stationid</th>\n",
       "      <th>rssi</th>\n",
       "      <th>gps</th>\n",
       "      <th>latitude</th>\n",
       "      <th>longitude</th>\n",
       "      <th>gps_rsu</th>\n",
       "      <th>latitude_rsu</th>\n",
       "      <th>longitude_rsu</th>\n",
       "    </tr>\n",
       "  </thead>\n",
       "  <tbody>\n",
       "    <tr>\n",
       "      <th>0</th>\n",
       "      <td>2022-03-07 09:25:00+00:00</td>\n",
       "      <td>105</td>\n",
       "      <td>160</td>\n",
       "      <td>-82.666667</td>\n",
       "      <td>(40.6411821, -8.6535174)</td>\n",
       "      <td>40.641182</td>\n",
       "      <td>-8.653517</td>\n",
       "      <td>(40.64088, -8.65397)</td>\n",
       "      <td>40.64088</td>\n",
       "      <td>-8.653970</td>\n",
       "    </tr>\n",
       "    <tr>\n",
       "      <th>1</th>\n",
       "      <td>2022-03-07 09:25:00+00:00</td>\n",
       "      <td>106</td>\n",
       "      <td>160</td>\n",
       "      <td>-80.333333</td>\n",
       "      <td>(40.6411821, -8.6535174)</td>\n",
       "      <td>40.641182</td>\n",
       "      <td>-8.653517</td>\n",
       "      <td>(40.64161, -8.652827)</td>\n",
       "      <td>40.64161</td>\n",
       "      <td>-8.652827</td>\n",
       "    </tr>\n",
       "  </tbody>\n",
       "</table>\n",
       "</div>"
      ],
      "text/plain": [
       "                 time_index  entity_id  stationid       rssi  \\\n",
       "0 2022-03-07 09:25:00+00:00        105        160 -82.666667   \n",
       "1 2022-03-07 09:25:00+00:00        106        160 -80.333333   \n",
       "\n",
       "                        gps   latitude  longitude                gps_rsu  \\\n",
       "0  (40.6411821, -8.6535174)  40.641182  -8.653517   (40.64088, -8.65397)   \n",
       "1  (40.6411821, -8.6535174)  40.641182  -8.653517  (40.64161, -8.652827)   \n",
       "\n",
       "   latitude_rsu  longitude_rsu  \n",
       "0      40.64088      -8.653970  \n",
       "1      40.64161      -8.652827  "
      ]
     },
     "execution_count": 16,
     "metadata": {},
     "output_type": "execute_result"
    }
   ],
   "source": [
    "# add rsu location\n",
    "df['gps_rsu'] = df['entity_id'].str.split(':', expand=True)[4].apply(lambda pid: rsu_locations.get(pid))\n",
    "df['entity_id'] = df['entity_id'].str.split(':', expand=True)[4].str[1:].astype(int) + 100\n",
    "df['stationid'] = df['stationid'] + 100\n",
    "for n, col in enumerate(['latitude_rsu', 'longitude_rsu']): # extract lat, lon from gps\n",
    "    df[col] = df['gps_rsu'].apply(lambda location: location[n])\n",
    "df.head(2)"
   ]
  },
  {
   "cell_type": "code",
   "execution_count": 17,
   "id": "c71189a3-d0db-43dc-9d5f-e6b2631ce733",
   "metadata": {},
   "outputs": [],
   "source": [
    "def rsu_to_node_id(df):\n",
    "    _df = df.copy()\n",
    "    _df = _df[['time_index', 'entity_id', 'latitude_rsu', 'longitude_rsu']]\n",
    "    _df = _df.rename(columns={'entity_id':'node_id', 'latitude_rsu': 'latitude', 'longitude_rsu': 'longitude'})\n",
    "    _df['neighbours'] = df.apply(lambda x : [(x.stationid, x.rssi, 0)], axis=1)\n",
    "    _df['rsu'] = [1]*len(_df.index)\n",
    "    _df = _df.groupby(['time_index', 'node_id', 'latitude', 'longitude'], as_index=False).agg({'neighbours': 'sum', 'rsu': 'first'})\n",
    "    # 'neighbours': 'sum' -> sum of lists\n",
    "    return _df"
   ]
  },
  {
   "cell_type": "code",
   "execution_count": 18,
   "id": "e2ec8c7a-e53d-4ebb-bf89-a5e99c89a920",
   "metadata": {},
   "outputs": [
    {
     "data": {
      "text/html": [
       "<div>\n",
       "<style scoped>\n",
       "    .dataframe tbody tr th:only-of-type {\n",
       "        vertical-align: middle;\n",
       "    }\n",
       "\n",
       "    .dataframe tbody tr th {\n",
       "        vertical-align: top;\n",
       "    }\n",
       "\n",
       "    .dataframe thead th {\n",
       "        text-align: right;\n",
       "    }\n",
       "</style>\n",
       "<table border=\"1\" class=\"dataframe\">\n",
       "  <thead>\n",
       "    <tr style=\"text-align: right;\">\n",
       "      <th></th>\n",
       "      <th>time_index</th>\n",
       "      <th>node_id</th>\n",
       "      <th>latitude</th>\n",
       "      <th>longitude</th>\n",
       "      <th>neighbours</th>\n",
       "      <th>rsu</th>\n",
       "    </tr>\n",
       "  </thead>\n",
       "  <tbody>\n",
       "    <tr>\n",
       "      <th>0</th>\n",
       "      <td>2022-03-07 09:25:00+00:00</td>\n",
       "      <td>105</td>\n",
       "      <td>40.64088</td>\n",
       "      <td>-8.653970</td>\n",
       "      <td>[(160, -82.66666666666667, 0)]</td>\n",
       "      <td>1</td>\n",
       "    </tr>\n",
       "    <tr>\n",
       "      <th>1</th>\n",
       "      <td>2022-03-07 09:25:00+00:00</td>\n",
       "      <td>106</td>\n",
       "      <td>40.64161</td>\n",
       "      <td>-8.652827</td>\n",
       "      <td>[(160, -80.33333333333333, 0)]</td>\n",
       "      <td>1</td>\n",
       "    </tr>\n",
       "  </tbody>\n",
       "</table>\n",
       "</div>"
      ],
      "text/plain": [
       "                 time_index  node_id  latitude  longitude  \\\n",
       "0 2022-03-07 09:25:00+00:00      105  40.64088  -8.653970   \n",
       "1 2022-03-07 09:25:00+00:00      106  40.64161  -8.652827   \n",
       "\n",
       "                       neighbours  rsu  \n",
       "0  [(160, -82.66666666666667, 0)]    1  \n",
       "1  [(160, -80.33333333333333, 0)]    1  "
      ]
     },
     "execution_count": 18,
     "metadata": {},
     "output_type": "execute_result"
    }
   ],
   "source": [
    "df_rsus = rsu_to_node_id(df)\n",
    "df_rsus.head(2)"
   ]
  },
  {
   "cell_type": "code",
   "execution_count": 19,
   "id": "dd5760ae-41e0-4d6e-bb25-928748746fce",
   "metadata": {},
   "outputs": [],
   "source": [
    "def obu_to_node_id(df):\n",
    "    _df = df.copy()\n",
    "    _df = _df[['time_index', 'stationid', 'latitude', 'longitude']]\n",
    "    _df = _df.rename(columns={'stationid':'node_id'})\n",
    "    _df['neighbours'] = df.apply(lambda x : [(x.entity_id, x.rssi, 1)], axis=1)\n",
    "    _df['rsu'] = [0]*len(_df.index)\n",
    "    _df = _df.groupby(['time_index', 'node_id', 'latitude', 'longitude'], as_index=False).agg({'neighbours': 'sum', 'rsu': 'first'})\n",
    "    # 'neighbours': 'sum' -> sum of lists\n",
    "    return _df"
   ]
  },
  {
   "cell_type": "code",
   "execution_count": 20,
   "id": "c83a8f26-ecec-4add-9225-82290b91a1f6",
   "metadata": {},
   "outputs": [
    {
     "data": {
      "text/html": [
       "<div>\n",
       "<style scoped>\n",
       "    .dataframe tbody tr th:only-of-type {\n",
       "        vertical-align: middle;\n",
       "    }\n",
       "\n",
       "    .dataframe tbody tr th {\n",
       "        vertical-align: top;\n",
       "    }\n",
       "\n",
       "    .dataframe thead th {\n",
       "        text-align: right;\n",
       "    }\n",
       "</style>\n",
       "<table border=\"1\" class=\"dataframe\">\n",
       "  <thead>\n",
       "    <tr style=\"text-align: right;\">\n",
       "      <th></th>\n",
       "      <th>time_index</th>\n",
       "      <th>node_id</th>\n",
       "      <th>latitude</th>\n",
       "      <th>longitude</th>\n",
       "      <th>neighbours</th>\n",
       "      <th>rsu</th>\n",
       "    </tr>\n",
       "  </thead>\n",
       "  <tbody>\n",
       "    <tr>\n",
       "      <th>0</th>\n",
       "      <td>2022-03-07 09:25:00+00:00</td>\n",
       "      <td>160</td>\n",
       "      <td>40.641182</td>\n",
       "      <td>-8.653517</td>\n",
       "      <td>[(105, -82.66666666666667, 1), (106, -80.33333...</td>\n",
       "      <td>0</td>\n",
       "    </tr>\n",
       "    <tr>\n",
       "      <th>1</th>\n",
       "      <td>2022-03-07 09:25:05+00:00</td>\n",
       "      <td>160</td>\n",
       "      <td>40.641178</td>\n",
       "      <td>-8.653405</td>\n",
       "      <td>[(105, -84.75, 1), (106, -76.16666666666667, 1)]</td>\n",
       "      <td>0</td>\n",
       "    </tr>\n",
       "  </tbody>\n",
       "</table>\n",
       "</div>"
      ],
      "text/plain": [
       "                 time_index  node_id   latitude  longitude  \\\n",
       "0 2022-03-07 09:25:00+00:00      160  40.641182  -8.653517   \n",
       "1 2022-03-07 09:25:05+00:00      160  40.641178  -8.653405   \n",
       "\n",
       "                                          neighbours  rsu  \n",
       "0  [(105, -82.66666666666667, 1), (106, -80.33333...    0  \n",
       "1   [(105, -84.75, 1), (106, -76.16666666666667, 1)]    0  "
      ]
     },
     "execution_count": 20,
     "metadata": {},
     "output_type": "execute_result"
    }
   ],
   "source": [
    "df_obus = obu_to_node_id(df)\n",
    "df_obus.head(2)"
   ]
  },
  {
   "cell_type": "code",
   "execution_count": 21,
   "id": "482a47d4-0a64-4cfc-878e-db0ca99ac967",
   "metadata": {},
   "outputs": [
    {
     "data": {
      "text/html": [
       "<div>\n",
       "<style scoped>\n",
       "    .dataframe tbody tr th:only-of-type {\n",
       "        vertical-align: middle;\n",
       "    }\n",
       "\n",
       "    .dataframe tbody tr th {\n",
       "        vertical-align: top;\n",
       "    }\n",
       "\n",
       "    .dataframe thead th {\n",
       "        text-align: right;\n",
       "    }\n",
       "</style>\n",
       "<table border=\"1\" class=\"dataframe\">\n",
       "  <thead>\n",
       "    <tr style=\"text-align: right;\">\n",
       "      <th></th>\n",
       "      <th>time_index</th>\n",
       "      <th>node_id</th>\n",
       "      <th>latitude</th>\n",
       "      <th>longitude</th>\n",
       "      <th>neighbours</th>\n",
       "      <th>rsu</th>\n",
       "    </tr>\n",
       "  </thead>\n",
       "  <tbody>\n",
       "    <tr>\n",
       "      <th>0</th>\n",
       "      <td>2022-03-07 09:25:00+00:00</td>\n",
       "      <td>105</td>\n",
       "      <td>40.64088</td>\n",
       "      <td>-8.653970</td>\n",
       "      <td>[(160, -82.66666666666667, 0)]</td>\n",
       "      <td>1</td>\n",
       "    </tr>\n",
       "    <tr>\n",
       "      <th>1</th>\n",
       "      <td>2022-03-07 09:25:00+00:00</td>\n",
       "      <td>106</td>\n",
       "      <td>40.64161</td>\n",
       "      <td>-8.652827</td>\n",
       "      <td>[(160, -80.33333333333333, 0)]</td>\n",
       "      <td>1</td>\n",
       "    </tr>\n",
       "  </tbody>\n",
       "</table>\n",
       "</div>"
      ],
      "text/plain": [
       "                 time_index  node_id  latitude  longitude  \\\n",
       "0 2022-03-07 09:25:00+00:00      105  40.64088  -8.653970   \n",
       "1 2022-03-07 09:25:00+00:00      106  40.64161  -8.652827   \n",
       "\n",
       "                       neighbours  rsu  \n",
       "0  [(160, -82.66666666666667, 0)]    1  \n",
       "1  [(160, -80.33333333333333, 0)]    1  "
      ]
     },
     "execution_count": 21,
     "metadata": {},
     "output_type": "execute_result"
    }
   ],
   "source": [
    "# Concatenate df_rsus with df_obus\n",
    "df_nodes = pd.concat([df_rsus, df_obus])\n",
    "df_nodes = df_nodes.sort_values(by='time_index')\n",
    "df_nodes.head(2)"
   ]
  },
  {
   "cell_type": "code",
   "execution_count": 22,
   "id": "8290650f-cd07-4e04-a34e-a62333f8d9d1",
   "metadata": {},
   "outputs": [],
   "source": [
    "def list_to_neighbour_format(l):\n",
    "    txt = \"[\"\n",
    "    for i in range(len(l)):\n",
    "        t = l[i]\n",
    "        txt += \"{'node_id': '\" + str(t[0]) + \"'| 'rssi': '\" + str(round(abs(t[1]))) + \"'| 'rsu': \" + str(t[2]) + \"}\"\n",
    "        if i<len(l)-1:\n",
    "            txt += \",\"\n",
    "        \n",
    "    txt += \"]\"\n",
    "    return txt"
   ]
  },
  {
   "cell_type": "code",
   "execution_count": 23,
   "id": "27ccdbe7-7a22-41fa-9ae3-5267ceb309b6",
   "metadata": {},
   "outputs": [
    {
     "data": {
      "text/html": [
       "<div>\n",
       "<style scoped>\n",
       "    .dataframe tbody tr th:only-of-type {\n",
       "        vertical-align: middle;\n",
       "    }\n",
       "\n",
       "    .dataframe tbody tr th {\n",
       "        vertical-align: top;\n",
       "    }\n",
       "\n",
       "    .dataframe thead th {\n",
       "        text-align: right;\n",
       "    }\n",
       "</style>\n",
       "<table border=\"1\" class=\"dataframe\">\n",
       "  <thead>\n",
       "    <tr style=\"text-align: right;\">\n",
       "      <th></th>\n",
       "      <th>time_index</th>\n",
       "      <th>node_id</th>\n",
       "      <th>latitude</th>\n",
       "      <th>longitude</th>\n",
       "      <th>neighbours</th>\n",
       "      <th>rsu</th>\n",
       "    </tr>\n",
       "  </thead>\n",
       "  <tbody>\n",
       "    <tr>\n",
       "      <th>0</th>\n",
       "      <td>2022-03-07 09:25:00+00:00</td>\n",
       "      <td>105</td>\n",
       "      <td>40.64088</td>\n",
       "      <td>-8.653970</td>\n",
       "      <td>[{'node_id': '160'| 'rssi': '83'| 'rsu': 0}]</td>\n",
       "      <td>1</td>\n",
       "    </tr>\n",
       "    <tr>\n",
       "      <th>1</th>\n",
       "      <td>2022-03-07 09:25:00+00:00</td>\n",
       "      <td>106</td>\n",
       "      <td>40.64161</td>\n",
       "      <td>-8.652827</td>\n",
       "      <td>[{'node_id': '160'| 'rssi': '80'| 'rsu': 0}]</td>\n",
       "      <td>1</td>\n",
       "    </tr>\n",
       "  </tbody>\n",
       "</table>\n",
       "</div>"
      ],
      "text/plain": [
       "                 time_index  node_id  latitude  longitude  \\\n",
       "0 2022-03-07 09:25:00+00:00      105  40.64088  -8.653970   \n",
       "1 2022-03-07 09:25:00+00:00      106  40.64161  -8.652827   \n",
       "\n",
       "                                     neighbours  rsu  \n",
       "0  [{'node_id': '160'| 'rssi': '83'| 'rsu': 0}]    1  \n",
       "1  [{'node_id': '160'| 'rssi': '80'| 'rsu': 0}]    1  "
      ]
     },
     "execution_count": 23,
     "metadata": {},
     "output_type": "execute_result"
    }
   ],
   "source": [
    "df_nodes['neighbours'] = df_nodes['neighbours'].apply(lambda x :list_to_neighbour_format(x))\n",
    "df_nodes.head(2)"
   ]
  },
  {
   "cell_type": "code",
   "execution_count": 24,
   "id": "81a1af85-20bd-407c-b39a-0c273a268d44",
   "metadata": {},
   "outputs": [
    {
     "data": {
      "text/html": [
       "<div>\n",
       "<style scoped>\n",
       "    .dataframe tbody tr th:only-of-type {\n",
       "        vertical-align: middle;\n",
       "    }\n",
       "\n",
       "    .dataframe tbody tr th {\n",
       "        vertical-align: top;\n",
       "    }\n",
       "\n",
       "    .dataframe thead th {\n",
       "        text-align: right;\n",
       "    }\n",
       "</style>\n",
       "<table border=\"1\" class=\"dataframe\">\n",
       "  <thead>\n",
       "    <tr style=\"text-align: right;\">\n",
       "      <th></th>\n",
       "      <th>timestamp</th>\n",
       "      <th>node_id</th>\n",
       "      <th>latitude</th>\n",
       "      <th>longitude</th>\n",
       "      <th>neighbours</th>\n",
       "      <th>rsu</th>\n",
       "    </tr>\n",
       "  </thead>\n",
       "  <tbody>\n",
       "    <tr>\n",
       "      <th>0</th>\n",
       "      <td>1646645100</td>\n",
       "      <td>105</td>\n",
       "      <td>40.64088</td>\n",
       "      <td>-8.653970</td>\n",
       "      <td>[{'node_id': '160'| 'rssi': '83'| 'rsu': 0}]</td>\n",
       "      <td>1</td>\n",
       "    </tr>\n",
       "    <tr>\n",
       "      <th>1</th>\n",
       "      <td>1646645100</td>\n",
       "      <td>106</td>\n",
       "      <td>40.64161</td>\n",
       "      <td>-8.652827</td>\n",
       "      <td>[{'node_id': '160'| 'rssi': '80'| 'rsu': 0}]</td>\n",
       "      <td>1</td>\n",
       "    </tr>\n",
       "  </tbody>\n",
       "</table>\n",
       "</div>"
      ],
      "text/plain": [
       "    timestamp  node_id  latitude  longitude  \\\n",
       "0  1646645100      105  40.64088  -8.653970   \n",
       "1  1646645100      106  40.64161  -8.652827   \n",
       "\n",
       "                                     neighbours  rsu  \n",
       "0  [{'node_id': '160'| 'rssi': '83'| 'rsu': 0}]    1  \n",
       "1  [{'node_id': '160'| 'rssi': '80'| 'rsu': 0}]    1  "
      ]
     },
     "execution_count": 24,
     "metadata": {},
     "output_type": "execute_result"
    }
   ],
   "source": [
    "df_nodes['timestamp'] = df_nodes['time_index'].astype(np.int64) // 10 ** 9\n",
    "df_nodes = df_nodes[['timestamp', 'node_id', 'latitude', 'longitude', 'neighbours', 'rsu']]\n",
    "df_nodes.head(2)"
   ]
  },
  {
   "cell_type": "code",
   "execution_count": 25,
   "id": "475c0d6e-5b82-4f7e-9d95-70ea51d87167",
   "metadata": {},
   "outputs": [
    {
     "data": {
      "text/plain": [
       "array([105, 106, 160, 126, 152, 197, 199])"
      ]
     },
     "execution_count": 25,
     "metadata": {},
     "output_type": "execute_result"
    }
   ],
   "source": [
    "df_nodes.node_id.unique()"
   ]
  },
  {
   "cell_type": "raw",
   "id": "62dfbd40-ba74-4bb0-a017-d282acac4b0b",
   "metadata": {},
   "source": [
    "_df = df_nodes\n",
    "_df = _df.set_index('time_index')\n",
    "_df = _df.resample('5Min')['node_id'].nunique()\n",
    "_df"
   ]
  },
  {
   "cell_type": "markdown",
   "id": "e327640b-8aab-487a-8b30-b663ade0684a",
   "metadata": {},
   "source": [
    "## Saving data"
   ]
  },
  {
   "cell_type": "code",
   "execution_count": 26,
   "id": "3478dec3-4b49-4c70-8afc-8d238896d2df",
   "metadata": {},
   "outputs": [],
   "source": [
    "df_nodes.to_csv(filename_processed)"
   ]
  }
 ],
 "metadata": {
  "kernelspec": {
   "display_name": "Python 3 (ipykernel)",
   "language": "python",
   "name": "python3"
  },
  "language_info": {
   "codemirror_mode": {
    "name": "ipython",
    "version": 3
   },
   "file_extension": ".py",
   "mimetype": "text/x-python",
   "name": "python",
   "nbconvert_exporter": "python",
   "pygments_lexer": "ipython3",
   "version": "3.10.2"
  }
 },
 "nbformat": 4,
 "nbformat_minor": 5
}
