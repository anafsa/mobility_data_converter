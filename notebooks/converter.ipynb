{
 "cells": [
  {
   "cell_type": "markdown",
   "id": "be15783a-12c9-4c19-abf6-8f098560aecd",
   "metadata": {},
   "source": [
    "# Mobility data converter"
   ]
  },
  {
   "cell_type": "markdown",
   "id": "34bda923-1f5d-4ee1-b28e-3680046b7ebf",
   "metadata": {
    "tags": []
   },
   "source": [
    "## Import modules"
   ]
  },
  {
   "cell_type": "code",
   "execution_count": 1,
   "id": "9d53fd8e-7c88-4cc1-a3d1-db6f44521254",
   "metadata": {
    "tags": []
   },
   "outputs": [],
   "source": [
    "import sys\n",
    "sys.path.insert(1, '../src/utils/')\n",
    "from my_utils import *\n",
    "\n",
    "import pandas as pd\n",
    "import numpy as np"
   ]
  },
  {
   "cell_type": "markdown",
   "id": "b0093b01-7c5b-484d-8987-a7faf1b5c95b",
   "metadata": {},
   "source": [
    "## Introduction"
   ]
  },
  {
   "cell_type": "markdown",
   "id": "eb9703d3-3bd8-4450-ad65-ac3a182daaf6",
   "metadata": {},
   "source": [
    "The goal is to convert data into the following format:"
   ]
  },
  {
   "cell_type": "code",
   "execution_count": 2,
   "id": "d5986be9-d912-4b67-bd39-b96fd044e01e",
   "metadata": {},
   "outputs": [
    {
     "data": {
      "text/html": [
       "<div>\n",
       "<style scoped>\n",
       "    .dataframe tbody tr th:only-of-type {\n",
       "        vertical-align: middle;\n",
       "    }\n",
       "\n",
       "    .dataframe tbody tr th {\n",
       "        vertical-align: top;\n",
       "    }\n",
       "\n",
       "    .dataframe thead th {\n",
       "        text-align: right;\n",
       "    }\n",
       "</style>\n",
       "<table border=\"1\" class=\"dataframe\">\n",
       "  <thead>\n",
       "    <tr style=\"text-align: right;\">\n",
       "      <th></th>\n",
       "      <th>timestamp</th>\n",
       "      <th>node_id</th>\n",
       "      <th>latitude</th>\n",
       "      <th>longitude</th>\n",
       "      <th>neighbours</th>\n",
       "      <th>rsu</th>\n",
       "    </tr>\n",
       "  </thead>\n",
       "  <tbody>\n",
       "    <tr>\n",
       "      <th>0</th>\n",
       "      <td>1423807260</td>\n",
       "      <td>101</td>\n",
       "      <td>40.641606</td>\n",
       "      <td>-8.652702</td>\n",
       "      <td>[{'node_id': '102'| 'rssi': '46'| 'rsu': 0}]</td>\n",
       "      <td>1</td>\n",
       "    </tr>\n",
       "    <tr>\n",
       "      <th>1</th>\n",
       "      <td>1423807260</td>\n",
       "      <td>102</td>\n",
       "      <td>40.641211</td>\n",
       "      <td>-8.653796</td>\n",
       "      <td>[{'node_id': '101'| 'rssi': '46'| 'rsu': 1}|{'...</td>\n",
       "      <td>0</td>\n",
       "    </tr>\n",
       "  </tbody>\n",
       "</table>\n",
       "</div>"
      ],
      "text/plain": [
       "    timestamp  node_id   latitude  longitude  \\\n",
       "0  1423807260      101  40.641606  -8.652702   \n",
       "1  1423807260      102  40.641211  -8.653796   \n",
       "\n",
       "                                          neighbours  rsu  \n",
       "0       [{'node_id': '102'| 'rssi': '46'| 'rsu': 0}]    1  \n",
       "1  [{'node_id': '101'| 'rssi': '46'| 'rsu': 1}|{'...    0  "
      ]
     },
     "execution_count": 2,
     "metadata": {},
     "output_type": "execute_result"
    }
   ],
   "source": [
    "df_example = pd.read_csv('../data/processed/example_5nodes.csv')\n",
    "df_example.head(2)"
   ]
  },
  {
   "cell_type": "markdown",
   "id": "aaf8cb4a-fcdc-48db-9b30-66afa63ac15d",
   "metadata": {},
   "source": [
    "## Variables"
   ]
  },
  {
   "cell_type": "code",
   "execution_count": 3,
   "id": "cd2794b2-79e2-4d33-ae46-065127435647",
   "metadata": {},
   "outputs": [],
   "source": [
    "# columns from the original dataframe\n",
    "cols = ['time_index', 'entity_id', 'location', 'speed', 'heading', 'altitude', 'rssi', 'obu_id',\n",
    "        'road', 'class', 'test', 'receiverid', 'receivertype', 'stationid', 'stationtype',\n",
    "        'semimajorconf', 'semiminorconf', 'semimajororient', 'altitudeconf', 'headingconf',\n",
    "        'speedconf', 'vehiclerole', 'drivedirection', 'length', 'width', 'acceleration',\n",
    "        'accelerationconf', 'curvature', 'curvatureconf', 'yawrate', 'yawrateconf', 'brakepedal',\n",
    "        'gaspedal', 'emergencybrake', 'collisionwarning', 'accengaged', 'cruisecontrol',\n",
    "        'speedlimiter', 'specialvehicle']\n",
    "\n",
    "# selected features\n",
    "features = ['time_index', 'entity_id', 'location', 'rssi', 'stationid']"
   ]
  },
  {
   "cell_type": "code",
   "execution_count": 4,
   "id": "0fdf2faa-8400-419d-836a-1acb3e338411",
   "metadata": {},
   "outputs": [],
   "source": [
    "# selected id's\n",
    "rsu_ids = ['p3', 'p5', 'p6', 'p26', 'p19']\n",
    "obu_ids = [50, 51, 52, 60, 86, 87, 89, 90, 97, 99]"
   ]
  },
  {
   "cell_type": "code",
   "execution_count": 5,
   "id": "3bd76bc5-75e9-496b-bd27-c6bb35309882",
   "metadata": {},
   "outputs": [
    {
     "data": {
      "text/plain": [
       "['urn:ngsi-ld:Values:aveiro_cam:p3',\n",
       " 'urn:ngsi-ld:Values:aveiro_cam:p5',\n",
       " 'urn:ngsi-ld:Values:aveiro_cam:p6',\n",
       " 'urn:ngsi-ld:Values:aveiro_cam:p26',\n",
       " 'urn:ngsi-ld:Values:aveiro_cam:p19']"
      ]
     },
     "execution_count": 5,
     "metadata": {},
     "output_type": "execute_result"
    }
   ],
   "source": [
    "# converts short id's to long id's\n",
    "rsu_ids = build_posts_ids(rsu_ids)\n",
    "rsu_ids"
   ]
  },
  {
   "cell_type": "code",
   "execution_count": 6,
   "id": "f6aab63b-9a5a-4ef9-af8f-fbb67463eb80",
   "metadata": {},
   "outputs": [],
   "source": [
    "# selected time period\n",
    "data_init = '2022-03-07 08:00:00.00+00'\n",
    "data_end = '2022-03-07 10:00:00.00+00'"
   ]
  },
  {
   "cell_type": "code",
   "execution_count": 7,
   "id": "051957ef-f563-4c85-afdf-c989493ba817",
   "metadata": {},
   "outputs": [],
   "source": [
    "# file containing the raw data\n",
    "filename = '../data/raw/cams.part.01.csv'"
   ]
  },
  {
   "cell_type": "code",
   "execution_count": 8,
   "id": "d3db7d62-a499-4621-8cd3-4bcd1d88d71e",
   "metadata": {},
   "outputs": [],
   "source": [
    "# radius (meters) for two entities being considered neighbours\n",
    "radius = 50\n",
    "# time for resample\n",
    "time = '5s'"
   ]
  },
  {
   "cell_type": "markdown",
   "id": "b850da1d-7021-44f8-9ecf-b41929cf6115",
   "metadata": {},
   "source": [
    "## Loading data"
   ]
  },
  {
   "cell_type": "code",
   "execution_count": 9,
   "id": "db670de6-3f4f-4585-b87e-b3bd00e1fd4e",
   "metadata": {},
   "outputs": [],
   "source": [
    "df = pd.read_csv(filename, names=cols) # read file"
   ]
  },
  {
   "cell_type": "code",
   "execution_count": 10,
   "id": "5fa4eb2b-0766-47ce-9d2a-8b9af7ab195a",
   "metadata": {},
   "outputs": [
    {
     "data": {
      "text/plain": [
       "count    1000000.000000\n",
       "mean      -17322.096087\n",
       "std        28832.587239\n",
       "min       -65535.000000\n",
       "10%       -65535.000000\n",
       "20%       -65535.000000\n",
       "30%          -88.000000\n",
       "40%          -86.000000\n",
       "50%          -84.000000\n",
       "60%          -82.000000\n",
       "70%          -79.000000\n",
       "80%          -74.000000\n",
       "90%          -67.000000\n",
       "98%          -63.000000\n",
       "max            0.000000\n",
       "Name: rssi, dtype: float64"
      ]
     },
     "execution_count": 10,
     "metadata": {},
     "output_type": "execute_result"
    }
   ],
   "source": [
    "df['rssi'].describe([0.1, 0.2, 0.3, 0.4, 0.5, 0.6, 0.7, 0.8, 0.9, 0.98])"
   ]
  },
  {
   "cell_type": "markdown",
   "id": "7b2153cb-015e-4452-a420-a778268de029",
   "metadata": {},
   "source": [
    "## Converting data"
   ]
  },
  {
   "cell_type": "code",
   "execution_count": 11,
   "id": "c8600fc4-04ec-4306-ac69-7b34e909c567",
   "metadata": {},
   "outputs": [
    {
     "data": {
      "text/html": [
       "<div>\n",
       "<style scoped>\n",
       "    .dataframe tbody tr th:only-of-type {\n",
       "        vertical-align: middle;\n",
       "    }\n",
       "\n",
       "    .dataframe tbody tr th {\n",
       "        vertical-align: top;\n",
       "    }\n",
       "\n",
       "    .dataframe thead th {\n",
       "        text-align: right;\n",
       "    }\n",
       "</style>\n",
       "<table border=\"1\" class=\"dataframe\">\n",
       "  <thead>\n",
       "    <tr style=\"text-align: right;\">\n",
       "      <th></th>\n",
       "      <th>time_index</th>\n",
       "      <th>entity_id</th>\n",
       "      <th>location</th>\n",
       "      <th>rssi</th>\n",
       "      <th>stationid</th>\n",
       "    </tr>\n",
       "  </thead>\n",
       "  <tbody>\n",
       "    <tr>\n",
       "      <th>0</th>\n",
       "      <td>2022-03-07 08:01:00+00:00</td>\n",
       "      <td>urn:ngsi-ld:Values:aveiro_cam:p26</td>\n",
       "      <td>0101000000D0381E7DDD4B21C0270BA9EC05524440</td>\n",
       "      <td>-89</td>\n",
       "      <td>87</td>\n",
       "    </tr>\n",
       "    <tr>\n",
       "      <th>1</th>\n",
       "      <td>2022-03-07 08:01:00+00:00</td>\n",
       "      <td>urn:ngsi-ld:Values:aveiro_cam:p26</td>\n",
       "      <td>01010000007F9763C3E44B21C04B0169FF03524440</td>\n",
       "      <td>-89</td>\n",
       "      <td>87</td>\n",
       "    </tr>\n",
       "  </tbody>\n",
       "</table>\n",
       "</div>"
      ],
      "text/plain": [
       "                 time_index                          entity_id  \\\n",
       "0 2022-03-07 08:01:00+00:00  urn:ngsi-ld:Values:aveiro_cam:p26   \n",
       "1 2022-03-07 08:01:00+00:00  urn:ngsi-ld:Values:aveiro_cam:p26   \n",
       "\n",
       "                                     location  rssi  stationid  \n",
       "0  0101000000D0381E7DDD4B21C0270BA9EC05524440   -89         87  \n",
       "1  01010000007F9763C3E44B21C04B0169FF03524440   -89         87  "
      ]
     },
     "execution_count": 11,
     "metadata": {},
     "output_type": "execute_result"
    }
   ],
   "source": [
    "df = df[features] # select columns\n",
    "df = df.loc[df['entity_id'].isin(rsu_ids)] # select only relevant rsu's\n",
    "df = df.loc[df['stationid'].isin(obu_ids)] # select only relevant obu's\n",
    "df = df.loc[(df['time_index']>=data_init) & (df['time_index']<data_end)] # include data_init and exclude data_end\n",
    "df = df.loc[(df['rssi']!=0)] # filter by rssi values\n",
    "df = df.sort_values(by='time_index')\n",
    "df['time_index'] = pd.to_datetime(df['time_index'])\n",
    "df[\"time_index\"] = df[\"time_index\"].dt.round(time) # round time_index columns\n",
    "df = df.reset_index(drop=True) # reset index\n",
    "\n",
    "df.head(2)"
   ]
  },
  {
   "cell_type": "code",
   "execution_count": 12,
   "id": "577b6a19-9840-41d3-b20d-07fea031e159",
   "metadata": {},
   "outputs": [
    {
     "data": {
      "text/html": [
       "<div>\n",
       "<style scoped>\n",
       "    .dataframe tbody tr th:only-of-type {\n",
       "        vertical-align: middle;\n",
       "    }\n",
       "\n",
       "    .dataframe tbody tr th {\n",
       "        vertical-align: top;\n",
       "    }\n",
       "\n",
       "    .dataframe thead th {\n",
       "        text-align: right;\n",
       "    }\n",
       "</style>\n",
       "<table border=\"1\" class=\"dataframe\">\n",
       "  <thead>\n",
       "    <tr style=\"text-align: right;\">\n",
       "      <th></th>\n",
       "      <th>time_index</th>\n",
       "      <th>entity_id</th>\n",
       "      <th>stationid</th>\n",
       "      <th>location</th>\n",
       "      <th>rssi</th>\n",
       "    </tr>\n",
       "  </thead>\n",
       "  <tbody>\n",
       "    <tr>\n",
       "      <th>0</th>\n",
       "      <td>2022-03-07 08:01:00+00:00</td>\n",
       "      <td>urn:ngsi-ld:Values:aveiro_cam:p26</td>\n",
       "      <td>87</td>\n",
       "      <td>0101000000D0381E7DDD4B21C0270BA9EC05524440</td>\n",
       "      <td>-89.000000</td>\n",
       "    </tr>\n",
       "    <tr>\n",
       "      <th>1</th>\n",
       "      <td>2022-03-07 08:01:05+00:00</td>\n",
       "      <td>urn:ngsi-ld:Values:aveiro_cam:p26</td>\n",
       "      <td>87</td>\n",
       "      <td>010100000099507754EB4B21C052DE7D4402524440</td>\n",
       "      <td>-87.833333</td>\n",
       "    </tr>\n",
       "    <tr>\n",
       "      <th>2</th>\n",
       "      <td>2022-03-07 08:01:10+00:00</td>\n",
       "      <td>urn:ngsi-ld:Values:aveiro_cam:p26</td>\n",
       "      <td>87</td>\n",
       "      <td>01010000005AB09EA40A4C21C0153B1A87FA514440</td>\n",
       "      <td>-86.600000</td>\n",
       "    </tr>\n",
       "    <tr>\n",
       "      <th>3</th>\n",
       "      <td>2022-03-07 08:01:15+00:00</td>\n",
       "      <td>urn:ngsi-ld:Values:aveiro_cam:p26</td>\n",
       "      <td>87</td>\n",
       "      <td>0101000000279133034B4C21C0FD6BD49EED514440</td>\n",
       "      <td>-86.666667</td>\n",
       "    </tr>\n",
       "    <tr>\n",
       "      <th>4</th>\n",
       "      <td>2022-03-07 08:01:20+00:00</td>\n",
       "      <td>urn:ngsi-ld:Values:aveiro_cam:p26</td>\n",
       "      <td>87</td>\n",
       "      <td>0101000000277854466D4C21C08462D0AEE7514440</td>\n",
       "      <td>-86.800000</td>\n",
       "    </tr>\n",
       "    <tr>\n",
       "      <th>...</th>\n",
       "      <td>...</td>\n",
       "      <td>...</td>\n",
       "      <td>...</td>\n",
       "      <td>...</td>\n",
       "      <td>...</td>\n",
       "    </tr>\n",
       "    <tr>\n",
       "      <th>658</th>\n",
       "      <td>2022-03-07 09:52:10+00:00</td>\n",
       "      <td>urn:ngsi-ld:Values:aveiro_cam:p26</td>\n",
       "      <td>86</td>\n",
       "      <td>01010000002943B005184D21C007A0072DDA514440</td>\n",
       "      <td>-85.400000</td>\n",
       "    </tr>\n",
       "    <tr>\n",
       "      <th>659</th>\n",
       "      <td>2022-03-07 09:52:15+00:00</td>\n",
       "      <td>urn:ngsi-ld:Values:aveiro_cam:p26</td>\n",
       "      <td>86</td>\n",
       "      <td>0101000000CE7234A20F4D21C0632BC313D5514440</td>\n",
       "      <td>-84.000000</td>\n",
       "    </tr>\n",
       "    <tr>\n",
       "      <th>660</th>\n",
       "      <td>2022-03-07 09:52:20+00:00</td>\n",
       "      <td>urn:ngsi-ld:Values:aveiro_cam:p26</td>\n",
       "      <td>86</td>\n",
       "      <td>0101000000027DC7951F4D21C096F551FCCE514440</td>\n",
       "      <td>-76.400000</td>\n",
       "    </tr>\n",
       "    <tr>\n",
       "      <th>661</th>\n",
       "      <td>2022-03-07 09:52:25+00:00</td>\n",
       "      <td>urn:ngsi-ld:Values:aveiro_cam:p26</td>\n",
       "      <td>86</td>\n",
       "      <td>01010000006626625B504D21C000DF1225C6514440</td>\n",
       "      <td>-78.800000</td>\n",
       "    </tr>\n",
       "    <tr>\n",
       "      <th>662</th>\n",
       "      <td>2022-03-07 09:52:35+00:00</td>\n",
       "      <td>urn:ngsi-ld:Values:aveiro_cam:p26</td>\n",
       "      <td>97</td>\n",
       "      <td>0101000000EBAD81AD124C21C01689096AF8514440</td>\n",
       "      <td>-87.000000</td>\n",
       "    </tr>\n",
       "  </tbody>\n",
       "</table>\n",
       "<p>663 rows × 5 columns</p>\n",
       "</div>"
      ],
      "text/plain": [
       "                   time_index                          entity_id  stationid  \\\n",
       "0   2022-03-07 08:01:00+00:00  urn:ngsi-ld:Values:aveiro_cam:p26         87   \n",
       "1   2022-03-07 08:01:05+00:00  urn:ngsi-ld:Values:aveiro_cam:p26         87   \n",
       "2   2022-03-07 08:01:10+00:00  urn:ngsi-ld:Values:aveiro_cam:p26         87   \n",
       "3   2022-03-07 08:01:15+00:00  urn:ngsi-ld:Values:aveiro_cam:p26         87   \n",
       "4   2022-03-07 08:01:20+00:00  urn:ngsi-ld:Values:aveiro_cam:p26         87   \n",
       "..                        ...                                ...        ...   \n",
       "658 2022-03-07 09:52:10+00:00  urn:ngsi-ld:Values:aveiro_cam:p26         86   \n",
       "659 2022-03-07 09:52:15+00:00  urn:ngsi-ld:Values:aveiro_cam:p26         86   \n",
       "660 2022-03-07 09:52:20+00:00  urn:ngsi-ld:Values:aveiro_cam:p26         86   \n",
       "661 2022-03-07 09:52:25+00:00  urn:ngsi-ld:Values:aveiro_cam:p26         86   \n",
       "662 2022-03-07 09:52:35+00:00  urn:ngsi-ld:Values:aveiro_cam:p26         97   \n",
       "\n",
       "                                       location       rssi  \n",
       "0    0101000000D0381E7DDD4B21C0270BA9EC05524440 -89.000000  \n",
       "1    010100000099507754EB4B21C052DE7D4402524440 -87.833333  \n",
       "2    01010000005AB09EA40A4C21C0153B1A87FA514440 -86.600000  \n",
       "3    0101000000279133034B4C21C0FD6BD49EED514440 -86.666667  \n",
       "4    0101000000277854466D4C21C08462D0AEE7514440 -86.800000  \n",
       "..                                          ...        ...  \n",
       "658  01010000002943B005184D21C007A0072DDA514440 -85.400000  \n",
       "659  0101000000CE7234A20F4D21C0632BC313D5514440 -84.000000  \n",
       "660  0101000000027DC7951F4D21C096F551FCCE514440 -76.400000  \n",
       "661  01010000006626625B504D21C000DF1225C6514440 -78.800000  \n",
       "662  0101000000EBAD81AD124C21C01689096AF8514440 -87.000000  \n",
       "\n",
       "[663 rows x 5 columns]"
      ]
     },
     "execution_count": 12,
     "metadata": {},
     "output_type": "execute_result"
    }
   ],
   "source": [
    "df = df.groupby(['time_index', 'entity_id', 'stationid'], as_index=False).agg({'location':'first', 'rssi':'mean'})\n",
    "df"
   ]
  },
  {
   "cell_type": "code",
   "execution_count": 13,
   "id": "d4586cd2-eb5f-49cb-968e-39f2bcdde205",
   "metadata": {},
   "outputs": [
    {
     "data": {
      "text/html": [
       "<div>\n",
       "<style scoped>\n",
       "    .dataframe tbody tr th:only-of-type {\n",
       "        vertical-align: middle;\n",
       "    }\n",
       "\n",
       "    .dataframe tbody tr th {\n",
       "        vertical-align: top;\n",
       "    }\n",
       "\n",
       "    .dataframe thead th {\n",
       "        text-align: right;\n",
       "    }\n",
       "</style>\n",
       "<table border=\"1\" class=\"dataframe\">\n",
       "  <thead>\n",
       "    <tr style=\"text-align: right;\">\n",
       "      <th></th>\n",
       "      <th>time_index</th>\n",
       "      <th>entity_id</th>\n",
       "      <th>stationid</th>\n",
       "      <th>location</th>\n",
       "      <th>rssi</th>\n",
       "      <th>gps</th>\n",
       "      <th>latitude</th>\n",
       "      <th>longitude</th>\n",
       "    </tr>\n",
       "  </thead>\n",
       "  <tbody>\n",
       "    <tr>\n",
       "      <th>0</th>\n",
       "      <td>2022-03-07 08:01:00+00:00</td>\n",
       "      <td>urn:ngsi-ld:Values:aveiro_cam:p26</td>\n",
       "      <td>87</td>\n",
       "      <td>0101000000D0381E7DDD4B21C0270BA9EC05524440</td>\n",
       "      <td>-89.000000</td>\n",
       "      <td>(40.6408058, -8.6481742)</td>\n",
       "      <td>40.640806</td>\n",
       "      <td>-8.648174</td>\n",
       "    </tr>\n",
       "    <tr>\n",
       "      <th>1</th>\n",
       "      <td>2022-03-07 08:01:05+00:00</td>\n",
       "      <td>urn:ngsi-ld:Values:aveiro_cam:p26</td>\n",
       "      <td>87</td>\n",
       "      <td>010100000099507754EB4B21C052DE7D4402524440</td>\n",
       "      <td>-87.833333</td>\n",
       "      <td>(40.6406942, -8.6482798)</td>\n",
       "      <td>40.640694</td>\n",
       "      <td>-8.648280</td>\n",
       "    </tr>\n",
       "  </tbody>\n",
       "</table>\n",
       "</div>"
      ],
      "text/plain": [
       "                 time_index                          entity_id  stationid  \\\n",
       "0 2022-03-07 08:01:00+00:00  urn:ngsi-ld:Values:aveiro_cam:p26         87   \n",
       "1 2022-03-07 08:01:05+00:00  urn:ngsi-ld:Values:aveiro_cam:p26         87   \n",
       "\n",
       "                                     location       rssi  \\\n",
       "0  0101000000D0381E7DDD4B21C0270BA9EC05524440 -89.000000   \n",
       "1  010100000099507754EB4B21C052DE7D4402524440 -87.833333   \n",
       "\n",
       "                        gps   latitude  longitude  \n",
       "0  (40.6408058, -8.6481742)  40.640806  -8.648174  \n",
       "1  (40.6406942, -8.6482798)  40.640694  -8.648280  "
      ]
     },
     "execution_count": 13,
     "metadata": {},
     "output_type": "execute_result"
    }
   ],
   "source": [
    "df['gps'] = df['location'].map(convert_wkb_to_lat_lon) # convert location to gps\n",
    "for n, col in enumerate(['latitude', 'longitude']): # extract lat, lon from gps\n",
    "    df[col] = df['gps'].apply(lambda location: location[n])\n",
    "df.head(2)"
   ]
  },
  {
   "cell_type": "code",
   "execution_count": null,
   "id": "53d9a934-d346-48c7-a7db-929f0fc46f7f",
   "metadata": {
    "tags": []
   },
   "outputs": [],
   "source": []
  },
  {
   "cell_type": "code",
   "execution_count": 14,
   "id": "d217a85f-3ce3-46cb-b000-609755668610",
   "metadata": {},
   "outputs": [
    {
     "data": {
      "text/plain": [
       "array([87, 60, 86, 90, 52, 89, 97, 99])"
      ]
     },
     "execution_count": 14,
     "metadata": {},
     "output_type": "execute_result"
    }
   ],
   "source": [
    "df['stationid'].unique()"
   ]
  },
  {
   "cell_type": "code",
   "execution_count": 15,
   "id": "b252fcd5-78de-4fd3-94b9-18a53b71218a",
   "metadata": {},
   "outputs": [
    {
     "data": {
      "text/plain": [
       "array(['urn:ngsi-ld:Values:aveiro_cam:p26',\n",
       "       'urn:ngsi-ld:Values:aveiro_cam:p5',\n",
       "       'urn:ngsi-ld:Values:aveiro_cam:p6',\n",
       "       'urn:ngsi-ld:Values:aveiro_cam:p19'], dtype=object)"
      ]
     },
     "execution_count": 15,
     "metadata": {},
     "output_type": "execute_result"
    }
   ],
   "source": [
    "df['entity_id'].unique()"
   ]
  },
  {
   "cell_type": "markdown",
   "id": "e327640b-8aab-487a-8b30-b663ade0684a",
   "metadata": {},
   "source": [
    "## Saving data"
   ]
  },
  {
   "cell_type": "code",
   "execution_count": null,
   "id": "3478dec3-4b49-4c70-8afc-8d238896d2df",
   "metadata": {},
   "outputs": [],
   "source": []
  },
  {
   "cell_type": "code",
   "execution_count": null,
   "id": "459b99be-0506-4c0e-bee6-c4cec8f11c83",
   "metadata": {},
   "outputs": [],
   "source": []
  }
 ],
 "metadata": {
  "kernelspec": {
   "display_name": "Python 3 (ipykernel)",
   "language": "python",
   "name": "python3"
  },
  "language_info": {
   "codemirror_mode": {
    "name": "ipython",
    "version": 3
   },
   "file_extension": ".py",
   "mimetype": "text/x-python",
   "name": "python",
   "nbconvert_exporter": "python",
   "pygments_lexer": "ipython3",
   "version": "3.10.2"
  }
 },
 "nbformat": 4,
 "nbformat_minor": 5
}
